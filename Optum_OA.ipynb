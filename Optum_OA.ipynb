{
 "cells": [
  {
   "cell_type": "code",
   "execution_count": null,
   "id": "0d2d94db",
   "metadata": {
    "scrolled": false
   },
   "outputs": [],
   "source": [
    "pip install scikit-learn"
   ]
  },
  {
   "cell_type": "markdown",
   "id": "5d26c780",
   "metadata": {},
   "source": [
    "Your task has four steps:\n",
    "\n",
    "\n",
    "\n",
    "1. Modify the training script so that only 80% of the data is used for training and the remaining 20% is test data.\n",
    "\n",
    "2. Output the accuracy score of the model on the test data.\n",
    "\n",
    "3. Implement a simple cross-validation step to find which of 1, 5, and 10 is the best max_depth for the classifier\n",
    "\n",
    "4. Print the confusion matrix of the classifier that results from (3) using sklearn's built-in method. Which class has the most false positives?"
   ]
  },
  {
   "cell_type": "code",
   "execution_count": 134,
   "id": "e80c995f",
   "metadata": {},
   "outputs": [],
   "source": [
    "from sklearn.datasets import load_iris\n",
    "from sklearn.tree import DecisionTreeClassifier\n",
    "from sklearn.model_selection import train_test_split\n",
    "from sklearn import metrics\n",
    "\n",
    "data = load_iris()\n",
    "\n",
    "features = data[\"data\"]\n",
    "labels = data[\"target\"]\n",
    "\n",
    "# 1. Modify the training script so that only 80% of the data is used for training and the \n",
    "# remaining 20% is test data.\n",
    "xTrain, xTest, yTrain, yTest = train_test_split(features,labels,test_size = 0.2, random_state = 123)"
   ]
  },
  {
   "cell_type": "code",
   "execution_count": 135,
   "id": "d5c18a8f",
   "metadata": {},
   "outputs": [],
   "source": [
    "model = DecisionTreeClassifier(random_state = 123)\n",
    "\n",
    "model.fit(xTrain, yTrain)\n",
    "\n",
    "predictions = model.predict(xTest)"
   ]
  },
  {
   "cell_type": "code",
   "execution_count": 136,
   "id": "5e609345",
   "metadata": {
    "scrolled": true
   },
   "outputs": [
    {
     "data": {
      "text/plain": [
       "0.9666666666666667"
      ]
     },
     "execution_count": 136,
     "metadata": {},
     "output_type": "execute_result"
    }
   ],
   "source": [
    "# 2. Output the accuracy score of the model on the test data\n",
    "metrics.accuracy_score(yTest,predictions)"
   ]
  },
  {
   "cell_type": "code",
   "execution_count": 137,
   "id": "691125ed",
   "metadata": {},
   "outputs": [],
   "source": [
    "# 3. Implement a simple cross-validation step to find which of 1, 5, and 10 is the best \n",
    "# max_depth for the classifier\n",
    "from sklearn.model_selection import GridSearchCV\n",
    "tuned_parameters = [{'max_depth': [1,5,10]}]\n",
    "scores = ['recall']"
   ]
  },
  {
   "cell_type": "code",
   "execution_count": 144,
   "id": "357ffd21",
   "metadata": {},
   "outputs": [
    {
     "name": "stdout",
     "output_type": "stream",
     "text": [
      "Best parameters set found on development set:\n",
      "\n",
      "{'max_depth': 5}\n",
      "\n",
      "Grid scores on development set:\n",
      "\n",
      "0.631 (+/-0.144) for {'max_depth': 1}\n",
      "0.917 (+/-0.143) for {'max_depth': 5}\n",
      "0.917 (+/-0.143) for {'max_depth': 10}\n",
      "\n"
     ]
    }
   ],
   "source": [
    "clf = GridSearchCV(\n",
    "    DecisionTreeClassifier(random_state = 123), tuned_parameters,\n",
    "    scoring = f'{score}_macro'\n",
    ")\n",
    "clf.fit(xTrain, yTrain)\n",
    "\n",
    "print(\"Best parameters set found on development set:\")\n",
    "print()\n",
    "print(clf.best_params_)\n",
    "print()\n",
    "print(\"Grid scores on development set:\")\n",
    "print()\n",
    "means = clf.cv_results_['mean_test_score']\n",
    "stds = clf.cv_results_['std_test_score']\n",
    "for mean, std, params in zip(means, stds, clf.cv_results_['params']):\n",
    "    print(\"%0.3f (+/-%0.03f) for %r\"\n",
    "          % (mean, std * 2, params))\n",
    "print()"
   ]
  },
  {
   "cell_type": "code",
   "execution_count": 141,
   "id": "7362407a",
   "metadata": {},
   "outputs": [
    {
     "name": "stdout",
     "output_type": "stream",
     "text": [
      "[[13  0  0]\n",
      " [ 0  6  0]\n",
      " [ 0  1 10]]\n"
     ]
    }
   ],
   "source": [
    "# 4. get the confusion matrix\n",
    "predictions = clf.predict(xTest) \n",
    "confusion_matrix = metrics.confusion_matrix(yTest,predictions)\n",
    "print(confusion_matrix)"
   ]
  },
  {
   "cell_type": "code",
   "execution_count": 142,
   "id": "3c49267c",
   "metadata": {
    "scrolled": true
   },
   "outputs": [
    {
     "name": "stdout",
     "output_type": "stream",
     "text": [
      "              precision    recall  f1-score   support\n",
      "\n",
      "           0       1.00      1.00      1.00        13\n",
      "           1       0.86      1.00      0.92         6\n",
      "           2       1.00      0.91      0.95        11\n",
      "\n",
      "    accuracy                           0.97        30\n",
      "   macro avg       0.95      0.97      0.96        30\n",
      "weighted avg       0.97      0.97      0.97        30\n",
      "\n"
     ]
    }
   ],
   "source": [
    "print(metrics.classification_report(yTest,predictions))"
   ]
  },
  {
   "cell_type": "code",
   "execution_count": 143,
   "id": "4f62cffd",
   "metadata": {},
   "outputs": [
    {
     "name": "stdout",
     "output_type": "stream",
     "text": [
      "Class 1 has the most false positives\n"
     ]
    }
   ],
   "source": [
    "print(\"Class 1 has the most false positives\")"
   ]
  },
  {
   "cell_type": "code",
   "execution_count": null,
   "id": "c91a97df",
   "metadata": {},
   "outputs": [],
   "source": []
  }
 ],
 "metadata": {
  "kernelspec": {
   "display_name": "Python 3 (ipykernel)",
   "language": "python",
   "name": "python3"
  },
  "language_info": {
   "codemirror_mode": {
    "name": "ipython",
    "version": 3
   },
   "file_extension": ".py",
   "mimetype": "text/x-python",
   "name": "python",
   "nbconvert_exporter": "python",
   "pygments_lexer": "ipython3",
   "version": "3.8.10"
  }
 },
 "nbformat": 4,
 "nbformat_minor": 5
}
